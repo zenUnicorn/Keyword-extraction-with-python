{
 "cells": [
  {
   "cell_type": "code",
   "execution_count": 1,
   "id": "7e934aa5",
   "metadata": {},
   "outputs": [],
   "source": [
    "from rake_nltk import Rake"
   ]
  },
  {
   "cell_type": "code",
   "execution_count": 11,
   "id": "070b6727",
   "metadata": {},
   "outputs": [],
   "source": [
    "rake_class = Rake()"
   ]
  },
  {
   "cell_type": "code",
   "execution_count": 14,
   "id": "2d5293e6",
   "metadata": {},
   "outputs": [],
   "source": [
    "text = \"\"\" Programming is writing computer code to create a program, to solve a problem. \n",
    "Programs are created to implement algorithms. Algorithms can be represented as pseudocode or a flowchart , \n",
    "and programming is the translation of these into a computer program.\"\"\""
   ]
  },
  {
   "cell_type": "code",
   "execution_count": 16,
   "id": "7c288255",
   "metadata": {},
   "outputs": [
    {
     "name": "stdout",
     "output_type": "stream",
     "text": [
      "['writing computer code', 'computer program', 'implement algorithms', 'program', 'algorithms', 'translation', 'solve', 'represented', 'pseudocode', 'programs', 'programming', 'programming', 'problem', 'flowchart', 'created', 'create']\n"
     ]
    }
   ],
   "source": [
    "rake_class.extract_keywords_from_text(text)\n",
    "extracted_keyword = rake_class.get_ranked_phrases()\n",
    "print(extracted_keyword)"
   ]
  },
  {
   "cell_type": "code",
   "execution_count": null,
   "id": "6e68b412",
   "metadata": {},
   "outputs": [],
   "source": []
  }
 ],
 "metadata": {
  "kernelspec": {
   "display_name": "Python 3 (ipykernel)",
   "language": "python",
   "name": "python3"
  },
  "language_info": {
   "codemirror_mode": {
    "name": "ipython",
    "version": 3
   },
   "file_extension": ".py",
   "mimetype": "text/x-python",
   "name": "python",
   "nbconvert_exporter": "python",
   "pygments_lexer": "ipython3",
   "version": "3.10.2"
  }
 },
 "nbformat": 4,
 "nbformat_minor": 5
}

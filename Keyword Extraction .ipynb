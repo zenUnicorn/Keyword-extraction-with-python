{
 "cells": [
  {
   "cell_type": "markdown",
   "id": "c1d74c4b",
   "metadata": {},
   "source": [
    "### Using RAKE (Rapid Automatic Keyword Extraction)"
   ]
  },
  {
   "cell_type": "code",
   "execution_count": 1,
   "id": "7e934aa5",
   "metadata": {},
   "outputs": [],
   "source": [
    "from rake_nltk import Rake"
   ]
  },
  {
   "cell_type": "code",
   "execution_count": 24,
   "id": "070b6727",
   "metadata": {},
   "outputs": [],
   "source": [
    "rake_class = Rake()"
   ]
  },
  {
   "cell_type": "code",
   "execution_count": 25,
   "id": "2d5293e6",
   "metadata": {},
   "outputs": [],
   "source": [
    "text = \"\"\" Programming is writing computer code to create a program, to solve a problem. \n",
    "Programs are created to implement algorithms. Algorithms can be represented as pseudocode or a flowchart , \n",
    "and programming is the translation of these into a computer program.\"\"\""
   ]
  },
  {
   "cell_type": "code",
   "execution_count": 26,
   "id": "7c288255",
   "metadata": {},
   "outputs": [
    {
     "name": "stdout",
     "output_type": "stream",
     "text": [
      "['writing computer code', 'computer program', 'implement algorithms', 'program', 'algorithms', 'translation', 'solve', 'represented', 'pseudocode', 'programs', 'programming', 'programming', 'problem', 'flowchart', 'created', 'create']\n"
     ]
    }
   ],
   "source": [
    "rake_class.extract_keywords_from_text(text)\n",
    "extracted_keyword = rake_class.get_ranked_phrases()\n",
    "print(extracted_keyword)"
   ]
  },
  {
   "cell_type": "code",
   "execution_count": null,
   "id": "6e68b412",
   "metadata": {},
   "outputs": [],
   "source": []
  },
  {
   "cell_type": "markdown",
   "id": "6ed63cb7",
   "metadata": {},
   "source": [
    "### Using YAKE (Yet Another Keyword Extractor)"
   ]
  },
  {
   "cell_type": "code",
   "execution_count": 8,
   "id": "f05bdb7c",
   "metadata": {},
   "outputs": [],
   "source": [
    "#import the yake library\n",
    "import yake"
   ]
  },
  {
   "cell_type": "code",
   "execution_count": 5,
   "id": "365ca206",
   "metadata": {},
   "outputs": [],
   "source": [
    "#add the text to the variable text.\n",
    "\n",
    "text = \"\"\" Programming is writing computer code to create a program, to solve a problem. \n",
    "Programs are created to implement algorithms. Algorithms can be represented as pseudocode or a flowchart , \n",
    "and programming is the translation of these into a computer program.\"\"\""
   ]
  },
  {
   "cell_type": "code",
   "execution_count": 11,
   "id": "549d122c",
   "metadata": {},
   "outputs": [
    {
     "name": "stdout",
     "output_type": "stream",
     "text": [
      "Keyphrase:  writing computer code : score 0.020921543891188374\n",
      "Keyphrase:  solve a problem : score 0.030175060058665604\n",
      "Keyphrase:  code to create : score 0.041248171260299296\n",
      "Keyphrase:  Programming is writing : score 0.07949977300641588\n",
      "Keyphrase:  writing computer : score 0.0945740608384011\n",
      "Keyphrase:  computer code : score 0.0945740608384011\n",
      "Keyphrase:  problem : score 0.14716749170965357\n",
      "Keyphrase:  Programming : score 0.1850069800508646\n",
      "Keyphrase:  writing : score 0.19903306162535475\n",
      "Keyphrase:  code : score 0.19903306162535475\n"
     ]
    }
   ],
   "source": [
    "#We must build a KeywordExtractor object from the Yake instance by using the KeywordExtractor constructor, \n",
    "#which accepts numerous parameters, the most important of which are: the number of words to be recovered (top), \n",
    "#which we set to 10 here. Lan: We use the standard \"en\" here. A list of stop words can be sent as an argument. \n",
    "#The text is then sent to the extract keywords function, which yields a list of tuples (keyword: score). \n",
    "#The length of keywords ranges from one to three.\n",
    "\n",
    "extractor = yake.KeywordExtractor(top=10, stopwords=None)\n",
    "keywords = extractor.extract_keywords(text)\n",
    "for kw, u in keywords:\n",
    "  print(\"Keyphrase: \",kw, \": score\", u)"
   ]
  },
  {
   "cell_type": "code",
   "execution_count": null,
   "id": "53d9be85",
   "metadata": {},
   "outputs": [],
   "source": []
  },
  {
   "cell_type": "markdown",
   "id": "d6d0b699",
   "metadata": {},
   "source": [
    "### Using TextRank"
   ]
  },
  {
   "cell_type": "code",
   "execution_count": 11,
   "id": "af5cc459",
   "metadata": {},
   "outputs": [],
   "source": [
    "from summa import keywords"
   ]
  },
  {
   "cell_type": "code",
   "execution_count": 21,
   "id": "38f71263",
   "metadata": {},
   "outputs": [],
   "source": [
    "text = \"\"\" Research and development (R&D) include activities that companies undertake to innovate and \n",
    "introduce new products and services. It is often the first stage in the development process. The goal is \n",
    "typically to take new products and services to\n",
    "market and add to the company's bottom line.  \"\"\"\n"
   ]
  },
  {
   "cell_type": "code",
   "execution_count": 23,
   "id": "476c50eb",
   "metadata": {},
   "outputs": [
    {
     "name": "stdout",
     "output_type": "stream",
     "text": [
      "[('development', 0.5720614028176847), ('include', 0.5720614028176839)]\n"
     ]
    }
   ],
   "source": [
    "TR_keywords = keywords.keywords(text, scores=True)\n",
    "print(TR_keywords[0:3])"
   ]
  },
  {
   "cell_type": "code",
   "execution_count": null,
   "id": "591b1f41",
   "metadata": {},
   "outputs": [],
   "source": []
  },
  {
   "cell_type": "code",
   "execution_count": null,
   "id": "1513ec00",
   "metadata": {},
   "outputs": [],
   "source": []
  }
 ],
 "metadata": {
  "kernelspec": {
   "display_name": "Python 3 (ipykernel)",
   "language": "python",
   "name": "python3"
  },
  "language_info": {
   "codemirror_mode": {
    "name": "ipython",
    "version": 3
   },
   "file_extension": ".py",
   "mimetype": "text/x-python",
   "name": "python",
   "nbconvert_exporter": "python",
   "pygments_lexer": "ipython3",
   "version": "3.10.2"
  }
 },
 "nbformat": 4,
 "nbformat_minor": 5
}
